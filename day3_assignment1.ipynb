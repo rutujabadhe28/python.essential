{
  "nbformat": 4,
  "nbformat_minor": 0,
  "metadata": {
    "colab": {
      "name": "day3-assignment1.ipynb",
      "provenance": [],
      "authorship_tag": "ABX9TyP6atzdTM+1kc3dWb3Bi1tQ",
      "include_colab_link": true
    },
    "kernelspec": {
      "name": "python3",
      "display_name": "Python 3"
    }
  },
  "cells": [
    {
      "cell_type": "markdown",
      "metadata": {
        "id": "view-in-github",
        "colab_type": "text"
      },
      "source": [
        "<a href=\"https://colab.research.google.com/github/rutujabadhe28/python.essential/blob/master/day3_assignment1.ipynb\" target=\"_parent\"><img src=\"https://colab.research.google.com/assets/colab-badge.svg\" alt=\"Open In Colab\"/></a>"
      ]
    },
    {
      "cell_type": "code",
      "metadata": {
        "id": "cGkBNPAULg59",
        "colab_type": "code",
        "colab": {
          "base_uri": "https://localhost:8080/",
          "height": 50
        },
        "outputId": "7a71b64f-b6d8-4150-ebfe-26780f69f467"
      },
      "source": [
        "altitude=input(\"Enter the current altitude of the plane-\")\n",
        "altitude=int(altitude)\n",
        "if altitude <= 1000:\n",
        "    print(\"Safe to land the plane\")\n",
        "elif altitude > 1000 and altitude <= 5000:\n",
        "  print(\"no ypu cannot land the plane. come down to the 1000ft\")\n",
        "else:\n",
        "  print(\"go around and tyr later\")"
      ],
      "execution_count": 6,
      "outputs": [
        {
          "output_type": "stream",
          "text": [
            "Enter the current altitude of the plane-6000\n",
            "go around and tyr later\n"
          ],
          "name": "stdout"
        }
      ]
    }
  ]
}