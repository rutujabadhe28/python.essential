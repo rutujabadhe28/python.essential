{
  "nbformat": 4,
  "nbformat_minor": 0,
  "metadata": {
    "colab": {
      "name": "Day4-assignment1.ipynb",
      "provenance": [],
      "collapsed_sections": [],
      "authorship_tag": "ABX9TyOPN+pFQyZzs9Dth9QfCfb0",
      "include_colab_link": true
    },
    "kernelspec": {
      "name": "python3",
      "display_name": "Python 3"
    }
  },
  "cells": [
    {
      "cell_type": "markdown",
      "metadata": {
        "id": "view-in-github",
        "colab_type": "text"
      },
      "source": [
        "<a href=\"https://colab.research.google.com/github/rutujabadhe28/python.essential/blob/master/Day4_assignment1.ipynb\" target=\"_parent\"><img src=\"https://colab.research.google.com/assets/colab-badge.svg\" alt=\"Open In Colab\"/></a>"
      ]
    },
    {
      "cell_type": "code",
      "metadata": {
        "id": "16Gwx9SzDLPw",
        "colab_type": "code",
        "colab": {
          "base_uri": "https://localhost:8080/",
          "height": 34
        },
        "outputId": "5a5aa690-8566-491c-9445-c9bb2a544bf7"
      },
      "source": [
        "for num in range(1042000, 702648265):\n",
        "  order = len(str(num))\n",
        "  sum=0\n",
        "  temp=num\n",
        "  while (temp)>0:\n",
        "    digit = temp%10\n",
        "    sum = sum+digit**order\n",
        "    temp //=10\n",
        "  if num == sum:\n",
        "    print(\"The first armstrong number between 1042000 and 702648265 is \", sum)\n",
        "    break"
      ],
      "execution_count": 2,
      "outputs": [
        {
          "output_type": "stream",
          "text": [
            "The first armstrong number between 1042000 and 702648265 is  1741725\n"
          ],
          "name": "stdout"
        }
      ]
    }
  ]
}